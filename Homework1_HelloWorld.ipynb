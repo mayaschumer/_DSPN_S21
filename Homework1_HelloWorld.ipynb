{
  "nbformat": 4,
  "nbformat_minor": 0,
  "metadata": {
    "colab": {
      "name": "Homework1_HelloWorld.ipynb",
      "provenance": [],
      "collapsed_sections": [
        "8P2Yjlvj0ZAU",
        "qHYA9eW30ZAV",
        "UHrvl9A10ZAW",
        "QOP2juim0ZAY",
        "IH9yxLQB0ZAZ",
        "za8IdRYR0ZAZ",
        "1A9LI6580ZAa"
      ]
    },
    "kernelspec": {
      "display_name": "R",
      "language": "R",
      "name": "ir"
    },
    "language_info": {
      "codemirror_mode": "r",
      "file_extension": ".r",
      "mimetype": "text/x-r-source",
      "name": "R",
      "pygments_lexer": "r",
      "version": "3.6.2"
    }
  },
  "cells": [
    {
      "cell_type": "markdown",
      "metadata": {
        "id": "-ClZfJKWaE-Q"
      },
      "source": [
        "Hello world"
      ]
    }
  ]
}